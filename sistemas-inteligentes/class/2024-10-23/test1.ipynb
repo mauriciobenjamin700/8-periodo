{
 "cells": [
  {
   "cell_type": "markdown",
   "metadata": {},
   "source": [
    "# Regras\n",
    "\n",
    "- Pegar uma caracteristica para usar e outra para ser alvo\n",
    "- Dividir o conjunto entre treino (70%) e  teste (30%)\n",
    "- Fazer o teste\n",
    "    - y_pred = b0 + bix\n",
    "- Avaliar os resultados\n",
    "    RMSE"
   ]
  },
  {
   "cell_type": "markdown",
   "metadata": {},
   "source": [
    "## Etapa 1 - Definir Target e Character"
   ]
  },
  {
   "cell_type": "code",
   "execution_count": 26,
   "metadata": {},
   "outputs": [],
   "source": [
    "import numpy as np\n",
    "import pandas as pd"
   ]
  },
  {
   "cell_type": "code",
   "execution_count": 27,
   "metadata": {},
   "outputs": [
    {
     "data": {
      "text/html": [
       "<div>\n",
       "<style scoped>\n",
       "    .dataframe tbody tr th:only-of-type {\n",
       "        vertical-align: middle;\n",
       "    }\n",
       "\n",
       "    .dataframe tbody tr th {\n",
       "        vertical-align: top;\n",
       "    }\n",
       "\n",
       "    .dataframe thead th {\n",
       "        text-align: right;\n",
       "    }\n",
       "</style>\n",
       "<table border=\"1\" class=\"dataframe\">\n",
       "  <thead>\n",
       "    <tr style=\"text-align: right;\">\n",
       "      <th></th>\n",
       "      <th>profit</th>\n",
       "      <th>morning</th>\n",
       "      <th>after_noon</th>\n",
       "      <th>night</th>\n",
       "      <th>Monday</th>\n",
       "      <th>Tuesday</th>\n",
       "      <th>Wednesday</th>\n",
       "      <th>Thursday</th>\n",
       "      <th>Friday</th>\n",
       "      <th>Saturday</th>\n",
       "      <th>...</th>\n",
       "      <th>March</th>\n",
       "      <th>April</th>\n",
       "      <th>May</th>\n",
       "      <th>June</th>\n",
       "      <th>July</th>\n",
       "      <th>August</th>\n",
       "      <th>September</th>\n",
       "      <th>October</th>\n",
       "      <th>November</th>\n",
       "      <th>December</th>\n",
       "    </tr>\n",
       "  </thead>\n",
       "  <tbody>\n",
       "    <tr>\n",
       "      <th>0</th>\n",
       "      <td>0.90</td>\n",
       "      <td>1.0</td>\n",
       "      <td>0.0</td>\n",
       "      <td>0.0</td>\n",
       "      <td>0.0</td>\n",
       "      <td>0.0</td>\n",
       "      <td>0.0</td>\n",
       "      <td>0.0</td>\n",
       "      <td>0.0</td>\n",
       "      <td>1.0</td>\n",
       "      <td>...</td>\n",
       "      <td>0.0</td>\n",
       "      <td>0.0</td>\n",
       "      <td>0.0</td>\n",
       "      <td>0.0</td>\n",
       "      <td>0.0</td>\n",
       "      <td>0.0</td>\n",
       "      <td>0.0</td>\n",
       "      <td>0.0</td>\n",
       "      <td>0.0</td>\n",
       "      <td>0.0</td>\n",
       "    </tr>\n",
       "    <tr>\n",
       "      <th>1</th>\n",
       "      <td>3.60</td>\n",
       "      <td>1.0</td>\n",
       "      <td>0.0</td>\n",
       "      <td>0.0</td>\n",
       "      <td>0.0</td>\n",
       "      <td>0.0</td>\n",
       "      <td>0.0</td>\n",
       "      <td>0.0</td>\n",
       "      <td>0.0</td>\n",
       "      <td>1.0</td>\n",
       "      <td>...</td>\n",
       "      <td>0.0</td>\n",
       "      <td>0.0</td>\n",
       "      <td>0.0</td>\n",
       "      <td>0.0</td>\n",
       "      <td>0.0</td>\n",
       "      <td>0.0</td>\n",
       "      <td>0.0</td>\n",
       "      <td>0.0</td>\n",
       "      <td>0.0</td>\n",
       "      <td>0.0</td>\n",
       "    </tr>\n",
       "    <tr>\n",
       "      <th>2</th>\n",
       "      <td>2.40</td>\n",
       "      <td>1.0</td>\n",
       "      <td>0.0</td>\n",
       "      <td>0.0</td>\n",
       "      <td>0.0</td>\n",
       "      <td>0.0</td>\n",
       "      <td>0.0</td>\n",
       "      <td>0.0</td>\n",
       "      <td>0.0</td>\n",
       "      <td>1.0</td>\n",
       "      <td>...</td>\n",
       "      <td>0.0</td>\n",
       "      <td>0.0</td>\n",
       "      <td>0.0</td>\n",
       "      <td>0.0</td>\n",
       "      <td>0.0</td>\n",
       "      <td>0.0</td>\n",
       "      <td>0.0</td>\n",
       "      <td>0.0</td>\n",
       "      <td>0.0</td>\n",
       "      <td>0.0</td>\n",
       "    </tr>\n",
       "    <tr>\n",
       "      <th>3</th>\n",
       "      <td>1.15</td>\n",
       "      <td>1.0</td>\n",
       "      <td>0.0</td>\n",
       "      <td>0.0</td>\n",
       "      <td>0.0</td>\n",
       "      <td>0.0</td>\n",
       "      <td>0.0</td>\n",
       "      <td>0.0</td>\n",
       "      <td>0.0</td>\n",
       "      <td>1.0</td>\n",
       "      <td>...</td>\n",
       "      <td>0.0</td>\n",
       "      <td>0.0</td>\n",
       "      <td>0.0</td>\n",
       "      <td>0.0</td>\n",
       "      <td>0.0</td>\n",
       "      <td>0.0</td>\n",
       "      <td>0.0</td>\n",
       "      <td>0.0</td>\n",
       "      <td>0.0</td>\n",
       "      <td>0.0</td>\n",
       "    </tr>\n",
       "    <tr>\n",
       "      <th>4</th>\n",
       "      <td>6.00</td>\n",
       "      <td>1.0</td>\n",
       "      <td>0.0</td>\n",
       "      <td>0.0</td>\n",
       "      <td>0.0</td>\n",
       "      <td>0.0</td>\n",
       "      <td>0.0</td>\n",
       "      <td>0.0</td>\n",
       "      <td>0.0</td>\n",
       "      <td>1.0</td>\n",
       "      <td>...</td>\n",
       "      <td>0.0</td>\n",
       "      <td>0.0</td>\n",
       "      <td>0.0</td>\n",
       "      <td>0.0</td>\n",
       "      <td>0.0</td>\n",
       "      <td>0.0</td>\n",
       "      <td>0.0</td>\n",
       "      <td>0.0</td>\n",
       "      <td>0.0</td>\n",
       "      <td>0.0</td>\n",
       "    </tr>\n",
       "    <tr>\n",
       "      <th>...</th>\n",
       "      <td>...</td>\n",
       "      <td>...</td>\n",
       "      <td>...</td>\n",
       "      <td>...</td>\n",
       "      <td>...</td>\n",
       "      <td>...</td>\n",
       "      <td>...</td>\n",
       "      <td>...</td>\n",
       "      <td>...</td>\n",
       "      <td>...</td>\n",
       "      <td>...</td>\n",
       "      <td>...</td>\n",
       "      <td>...</td>\n",
       "      <td>...</td>\n",
       "      <td>...</td>\n",
       "      <td>...</td>\n",
       "      <td>...</td>\n",
       "      <td>...</td>\n",
       "      <td>...</td>\n",
       "      <td>...</td>\n",
       "      <td>...</td>\n",
       "    </tr>\n",
       "    <tr>\n",
       "      <th>234000</th>\n",
       "      <td>0.15</td>\n",
       "      <td>0.0</td>\n",
       "      <td>0.0</td>\n",
       "      <td>1.0</td>\n",
       "      <td>0.0</td>\n",
       "      <td>0.0</td>\n",
       "      <td>0.0</td>\n",
       "      <td>0.0</td>\n",
       "      <td>1.0</td>\n",
       "      <td>0.0</td>\n",
       "      <td>...</td>\n",
       "      <td>0.0</td>\n",
       "      <td>0.0</td>\n",
       "      <td>0.0</td>\n",
       "      <td>0.0</td>\n",
       "      <td>0.0</td>\n",
       "      <td>0.0</td>\n",
       "      <td>1.0</td>\n",
       "      <td>0.0</td>\n",
       "      <td>0.0</td>\n",
       "      <td>0.0</td>\n",
       "    </tr>\n",
       "    <tr>\n",
       "      <th>234001</th>\n",
       "      <td>1.20</td>\n",
       "      <td>0.0</td>\n",
       "      <td>0.0</td>\n",
       "      <td>1.0</td>\n",
       "      <td>0.0</td>\n",
       "      <td>0.0</td>\n",
       "      <td>0.0</td>\n",
       "      <td>0.0</td>\n",
       "      <td>1.0</td>\n",
       "      <td>0.0</td>\n",
       "      <td>...</td>\n",
       "      <td>0.0</td>\n",
       "      <td>0.0</td>\n",
       "      <td>0.0</td>\n",
       "      <td>0.0</td>\n",
       "      <td>0.0</td>\n",
       "      <td>0.0</td>\n",
       "      <td>1.0</td>\n",
       "      <td>0.0</td>\n",
       "      <td>0.0</td>\n",
       "      <td>0.0</td>\n",
       "    </tr>\n",
       "    <tr>\n",
       "      <th>234002</th>\n",
       "      <td>0.30</td>\n",
       "      <td>0.0</td>\n",
       "      <td>0.0</td>\n",
       "      <td>1.0</td>\n",
       "      <td>0.0</td>\n",
       "      <td>0.0</td>\n",
       "      <td>0.0</td>\n",
       "      <td>0.0</td>\n",
       "      <td>1.0</td>\n",
       "      <td>0.0</td>\n",
       "      <td>...</td>\n",
       "      <td>0.0</td>\n",
       "      <td>0.0</td>\n",
       "      <td>0.0</td>\n",
       "      <td>0.0</td>\n",
       "      <td>0.0</td>\n",
       "      <td>0.0</td>\n",
       "      <td>1.0</td>\n",
       "      <td>0.0</td>\n",
       "      <td>0.0</td>\n",
       "      <td>0.0</td>\n",
       "    </tr>\n",
       "    <tr>\n",
       "      <th>234003</th>\n",
       "      <td>1.30</td>\n",
       "      <td>0.0</td>\n",
       "      <td>0.0</td>\n",
       "      <td>1.0</td>\n",
       "      <td>0.0</td>\n",
       "      <td>0.0</td>\n",
       "      <td>0.0</td>\n",
       "      <td>0.0</td>\n",
       "      <td>1.0</td>\n",
       "      <td>0.0</td>\n",
       "      <td>...</td>\n",
       "      <td>0.0</td>\n",
       "      <td>0.0</td>\n",
       "      <td>0.0</td>\n",
       "      <td>0.0</td>\n",
       "      <td>0.0</td>\n",
       "      <td>0.0</td>\n",
       "      <td>1.0</td>\n",
       "      <td>0.0</td>\n",
       "      <td>0.0</td>\n",
       "      <td>0.0</td>\n",
       "    </tr>\n",
       "    <tr>\n",
       "      <th>234004</th>\n",
       "      <td>1.30</td>\n",
       "      <td>0.0</td>\n",
       "      <td>0.0</td>\n",
       "      <td>1.0</td>\n",
       "      <td>0.0</td>\n",
       "      <td>0.0</td>\n",
       "      <td>0.0</td>\n",
       "      <td>0.0</td>\n",
       "      <td>1.0</td>\n",
       "      <td>0.0</td>\n",
       "      <td>...</td>\n",
       "      <td>0.0</td>\n",
       "      <td>0.0</td>\n",
       "      <td>0.0</td>\n",
       "      <td>0.0</td>\n",
       "      <td>0.0</td>\n",
       "      <td>0.0</td>\n",
       "      <td>1.0</td>\n",
       "      <td>0.0</td>\n",
       "      <td>0.0</td>\n",
       "      <td>0.0</td>\n",
       "    </tr>\n",
       "  </tbody>\n",
       "</table>\n",
       "<p>234005 rows × 23 columns</p>\n",
       "</div>"
      ],
      "text/plain": [
       "        profit  morning  after_noon  night  Monday  Tuesday  Wednesday  \\\n",
       "0         0.90      1.0         0.0    0.0     0.0      0.0        0.0   \n",
       "1         3.60      1.0         0.0    0.0     0.0      0.0        0.0   \n",
       "2         2.40      1.0         0.0    0.0     0.0      0.0        0.0   \n",
       "3         1.15      1.0         0.0    0.0     0.0      0.0        0.0   \n",
       "4         6.00      1.0         0.0    0.0     0.0      0.0        0.0   \n",
       "...        ...      ...         ...    ...     ...      ...        ...   \n",
       "234000    0.15      0.0         0.0    1.0     0.0      0.0        0.0   \n",
       "234001    1.20      0.0         0.0    1.0     0.0      0.0        0.0   \n",
       "234002    0.30      0.0         0.0    1.0     0.0      0.0        0.0   \n",
       "234003    1.30      0.0         0.0    1.0     0.0      0.0        0.0   \n",
       "234004    1.30      0.0         0.0    1.0     0.0      0.0        0.0   \n",
       "\n",
       "        Thursday  Friday  Saturday  ...  March  April  May  June  July  \\\n",
       "0            0.0     0.0       1.0  ...    0.0    0.0  0.0   0.0   0.0   \n",
       "1            0.0     0.0       1.0  ...    0.0    0.0  0.0   0.0   0.0   \n",
       "2            0.0     0.0       1.0  ...    0.0    0.0  0.0   0.0   0.0   \n",
       "3            0.0     0.0       1.0  ...    0.0    0.0  0.0   0.0   0.0   \n",
       "4            0.0     0.0       1.0  ...    0.0    0.0  0.0   0.0   0.0   \n",
       "...          ...     ...       ...  ...    ...    ...  ...   ...   ...   \n",
       "234000       0.0     1.0       0.0  ...    0.0    0.0  0.0   0.0   0.0   \n",
       "234001       0.0     1.0       0.0  ...    0.0    0.0  0.0   0.0   0.0   \n",
       "234002       0.0     1.0       0.0  ...    0.0    0.0  0.0   0.0   0.0   \n",
       "234003       0.0     1.0       0.0  ...    0.0    0.0  0.0   0.0   0.0   \n",
       "234004       0.0     1.0       0.0  ...    0.0    0.0  0.0   0.0   0.0   \n",
       "\n",
       "        August  September  October  November  December  \n",
       "0          0.0        0.0      0.0       0.0       0.0  \n",
       "1          0.0        0.0      0.0       0.0       0.0  \n",
       "2          0.0        0.0      0.0       0.0       0.0  \n",
       "3          0.0        0.0      0.0       0.0       0.0  \n",
       "4          0.0        0.0      0.0       0.0       0.0  \n",
       "...        ...        ...      ...       ...       ...  \n",
       "234000     0.0        1.0      0.0       0.0       0.0  \n",
       "234001     0.0        1.0      0.0       0.0       0.0  \n",
       "234002     0.0        1.0      0.0       0.0       0.0  \n",
       "234003     0.0        1.0      0.0       0.0       0.0  \n",
       "234004     0.0        1.0      0.0       0.0       0.0  \n",
       "\n",
       "[234005 rows x 23 columns]"
      ]
     },
     "execution_count": 27,
     "metadata": {},
     "output_type": "execute_result"
    }
   ],
   "source": [
    "df = pd.read_csv(\"regression_dataset.csv\")\n",
    "df"
   ]
  },
  {
   "cell_type": "code",
   "execution_count": 28,
   "metadata": {},
   "outputs": [
    {
     "data": {
      "text/html": [
       "<div>\n",
       "<style scoped>\n",
       "    .dataframe tbody tr th:only-of-type {\n",
       "        vertical-align: middle;\n",
       "    }\n",
       "\n",
       "    .dataframe tbody tr th {\n",
       "        vertical-align: top;\n",
       "    }\n",
       "\n",
       "    .dataframe thead th {\n",
       "        text-align: right;\n",
       "    }\n",
       "</style>\n",
       "<table border=\"1\" class=\"dataframe\">\n",
       "  <thead>\n",
       "    <tr style=\"text-align: right;\">\n",
       "      <th></th>\n",
       "      <th>Unnamed: 0</th>\n",
       "      <th>date</th>\n",
       "      <th>time</th>\n",
       "      <th>ticket_number</th>\n",
       "      <th>article</th>\n",
       "      <th>Quantity</th>\n",
       "      <th>unit_price</th>\n",
       "    </tr>\n",
       "  </thead>\n",
       "  <tbody>\n",
       "    <tr>\n",
       "      <th>0</th>\n",
       "      <td>0</td>\n",
       "      <td>2021-01-02</td>\n",
       "      <td>08:38</td>\n",
       "      <td>150040.0</td>\n",
       "      <td>BAGUETTE</td>\n",
       "      <td>1.0</td>\n",
       "      <td>0,90 €</td>\n",
       "    </tr>\n",
       "    <tr>\n",
       "      <th>1</th>\n",
       "      <td>1</td>\n",
       "      <td>2021-01-02</td>\n",
       "      <td>08:38</td>\n",
       "      <td>150040.0</td>\n",
       "      <td>PAIN AU CHOCOLAT</td>\n",
       "      <td>3.0</td>\n",
       "      <td>1,20 €</td>\n",
       "    </tr>\n",
       "    <tr>\n",
       "      <th>2</th>\n",
       "      <td>4</td>\n",
       "      <td>2021-01-02</td>\n",
       "      <td>09:14</td>\n",
       "      <td>150041.0</td>\n",
       "      <td>PAIN AU CHOCOLAT</td>\n",
       "      <td>2.0</td>\n",
       "      <td>1,20 €</td>\n",
       "    </tr>\n",
       "    <tr>\n",
       "      <th>3</th>\n",
       "      <td>5</td>\n",
       "      <td>2021-01-02</td>\n",
       "      <td>09:14</td>\n",
       "      <td>150041.0</td>\n",
       "      <td>PAIN</td>\n",
       "      <td>1.0</td>\n",
       "      <td>1,15 €</td>\n",
       "    </tr>\n",
       "    <tr>\n",
       "      <th>4</th>\n",
       "      <td>8</td>\n",
       "      <td>2021-01-02</td>\n",
       "      <td>09:25</td>\n",
       "      <td>150042.0</td>\n",
       "      <td>TRADITIONAL BAGUETTE</td>\n",
       "      <td>5.0</td>\n",
       "      <td>1,20 €</td>\n",
       "    </tr>\n",
       "    <tr>\n",
       "      <th>...</th>\n",
       "      <td>...</td>\n",
       "      <td>...</td>\n",
       "      <td>...</td>\n",
       "      <td>...</td>\n",
       "      <td>...</td>\n",
       "      <td>...</td>\n",
       "      <td>...</td>\n",
       "    </tr>\n",
       "    <tr>\n",
       "      <th>234000</th>\n",
       "      <td>511387</td>\n",
       "      <td>2022-09-30</td>\n",
       "      <td>18:52</td>\n",
       "      <td>288911.0</td>\n",
       "      <td>COUPE</td>\n",
       "      <td>1.0</td>\n",
       "      <td>0,15 €</td>\n",
       "    </tr>\n",
       "    <tr>\n",
       "      <th>234001</th>\n",
       "      <td>511388</td>\n",
       "      <td>2022-09-30</td>\n",
       "      <td>18:52</td>\n",
       "      <td>288911.0</td>\n",
       "      <td>BOULE 200G</td>\n",
       "      <td>1.0</td>\n",
       "      <td>1,20 €</td>\n",
       "    </tr>\n",
       "    <tr>\n",
       "      <th>234002</th>\n",
       "      <td>511389</td>\n",
       "      <td>2022-09-30</td>\n",
       "      <td>18:52</td>\n",
       "      <td>288911.0</td>\n",
       "      <td>COUPE</td>\n",
       "      <td>2.0</td>\n",
       "      <td>0,15 €</td>\n",
       "    </tr>\n",
       "    <tr>\n",
       "      <th>234003</th>\n",
       "      <td>511392</td>\n",
       "      <td>2022-09-30</td>\n",
       "      <td>18:55</td>\n",
       "      <td>288912.0</td>\n",
       "      <td>TRADITIONAL BAGUETTE</td>\n",
       "      <td>1.0</td>\n",
       "      <td>1,30 €</td>\n",
       "    </tr>\n",
       "    <tr>\n",
       "      <th>234004</th>\n",
       "      <td>511395</td>\n",
       "      <td>2022-09-30</td>\n",
       "      <td>18:56</td>\n",
       "      <td>288913.0</td>\n",
       "      <td>TRADITIONAL BAGUETTE</td>\n",
       "      <td>1.0</td>\n",
       "      <td>1,30 €</td>\n",
       "    </tr>\n",
       "  </tbody>\n",
       "</table>\n",
       "<p>234005 rows × 7 columns</p>\n",
       "</div>"
      ],
      "text/plain": [
       "        Unnamed: 0        date   time  ticket_number               article  \\\n",
       "0                0  2021-01-02  08:38       150040.0              BAGUETTE   \n",
       "1                1  2021-01-02  08:38       150040.0      PAIN AU CHOCOLAT   \n",
       "2                4  2021-01-02  09:14       150041.0      PAIN AU CHOCOLAT   \n",
       "3                5  2021-01-02  09:14       150041.0                  PAIN   \n",
       "4                8  2021-01-02  09:25       150042.0  TRADITIONAL BAGUETTE   \n",
       "...            ...         ...    ...            ...                   ...   \n",
       "234000      511387  2022-09-30  18:52       288911.0                 COUPE   \n",
       "234001      511388  2022-09-30  18:52       288911.0            BOULE 200G   \n",
       "234002      511389  2022-09-30  18:52       288911.0                 COUPE   \n",
       "234003      511392  2022-09-30  18:55       288912.0  TRADITIONAL BAGUETTE   \n",
       "234004      511395  2022-09-30  18:56       288913.0  TRADITIONAL BAGUETTE   \n",
       "\n",
       "        Quantity unit_price  \n",
       "0            1.0     0,90 €  \n",
       "1            3.0     1,20 €  \n",
       "2            2.0     1,20 €  \n",
       "3            1.0     1,15 €  \n",
       "4            5.0     1,20 €  \n",
       "...          ...        ...  \n",
       "234000       1.0     0,15 €  \n",
       "234001       1.0     1,20 €  \n",
       "234002       2.0     0,15 €  \n",
       "234003       1.0     1,30 €  \n",
       "234004       1.0     1,30 €  \n",
       "\n",
       "[234005 rows x 7 columns]"
      ]
     },
     "execution_count": 28,
     "metadata": {},
     "output_type": "execute_result"
    }
   ],
   "source": [
    "aux = pd.read_csv(\"dataset.csv\")\n",
    "aux"
   ]
  },
  {
   "cell_type": "code",
   "execution_count": 29,
   "metadata": {},
   "outputs": [
    {
     "data": {
      "text/plain": [
       "0         0.90\n",
       "1         3.60\n",
       "2         2.40\n",
       "3         1.15\n",
       "4         6.00\n",
       "          ... \n",
       "234000    0.15\n",
       "234001    1.20\n",
       "234002    0.30\n",
       "234003    1.30\n",
       "234004    1.30\n",
       "Name: profit, Length: 234005, dtype: float64"
      ]
     },
     "execution_count": 29,
     "metadata": {},
     "output_type": "execute_result"
    }
   ],
   "source": [
    "target = df[\"profit\"]\n",
    "target"
   ]
  },
  {
   "cell_type": "code",
   "execution_count": 30,
   "metadata": {},
   "outputs": [
    {
     "data": {
      "text/plain": [
       "0         0.90\n",
       "1         1.20\n",
       "2         1.20\n",
       "3         1.15\n",
       "4         1.20\n",
       "          ... \n",
       "234000    0.15\n",
       "234001    1.20\n",
       "234002    0.15\n",
       "234003    1.30\n",
       "234004    1.30\n",
       "Name: unit_price, Length: 234005, dtype: float64"
      ]
     },
     "execution_count": 30,
     "metadata": {},
     "output_type": "execute_result"
    }
   ],
   "source": [
    "aux[\"unit_price\"] = aux[\"unit_price\"].apply(lambda x: float(x.replace(\"€\", \"\").replace(\",\", \".\")))\n",
    "character = aux[\"unit_price\"]\n",
    "character"
   ]
  },
  {
   "cell_type": "code",
   "execution_count": 31,
   "metadata": {},
   "outputs": [],
   "source": [
    "def my_sum(array: list) -> int | float:\n",
    "    value = 0\n",
    "\n",
    "    for number in array:\n",
    "        value += number\n",
    "\n",
    "    return value"
   ]
  },
  {
   "cell_type": "code",
   "execution_count": 32,
   "metadata": {},
   "outputs": [],
   "source": [
    "def my_mean(array: list) -> float:\n",
    "    \n",
    "    mean = my_sum(array)\n",
    "\n",
    "    mean = mean/len(array)\n",
    "\n",
    "    return mean"
   ]
  },
  {
   "cell_type": "code",
   "execution_count": 33,
   "metadata": {},
   "outputs": [],
   "source": [
    "def calc_beta_one(character: np.ndarray, target: np.ndarray) -> float:\n",
    "    x = character\n",
    "    y = target\n",
    "    x_mean = my_mean(x)\n",
    "    y_mean = my_mean(y)\n",
    "\n",
    "    x_y = (x - x_mean) * (y - y_mean)\n",
    "    x_x = (x - x_mean) ** 2\n",
    "\n",
    "    beta_one = my_sum(x_y) / my_sum(x_x)\n",
    "    return beta_one"
   ]
  },
  {
   "cell_type": "code",
   "execution_count": 34,
   "metadata": {},
   "outputs": [],
   "source": [
    "def calc_beta_zero(mean_y: float, beta_one, mean_x: float) -> float:\n",
    "    \"\"\"\n",
    "    Cacula Beta Zero\n",
    "\n",
    "    - Args:\n",
    "        - mean_y:: Media dos valores da coluna alvo\n",
    "        - beta_one:: Coeficiente angular\n",
    "        - mean_x:: Media dos valores da coluna caracteristica\n",
    "    \"\"\"\n",
    "\n",
    "    return mean_y - beta_one * mean_x"
   ]
  },
  {
   "cell_type": "code",
   "execution_count": 35,
   "metadata": {},
   "outputs": [
    {
     "data": {
      "text/plain": [
       "np.float64(1.0562236123693485)"
      ]
     },
     "execution_count": 35,
     "metadata": {},
     "output_type": "execute_result"
    }
   ],
   "source": [
    "x, y = np.array(character), np.array(target)\n",
    "beta_one = calc_beta_one(x, y)\n",
    "beta_one"
   ]
  },
  {
   "cell_type": "code",
   "execution_count": 36,
   "metadata": {},
   "outputs": [
    {
     "data": {
      "text/plain": [
       "np.float64(0.631653942623946)"
      ]
     },
     "execution_count": 36,
     "metadata": {},
     "output_type": "execute_result"
    }
   ],
   "source": [
    "beta_zero = calc_beta_zero(\n",
    "    mean_y=my_mean(np.array(target)),\n",
    "    beta_one=beta_one,\n",
    "    mean_x=my_mean(np.array(character))\n",
    ")\n",
    "beta_zero"
   ]
  },
  {
   "cell_type": "markdown",
   "metadata": {},
   "source": [
    "# Etapa 2 - Dividir a Base em 70 - 30"
   ]
  },
  {
   "cell_type": "code",
   "execution_count": 37,
   "metadata": {},
   "outputs": [
    {
     "data": {
      "text/plain": [
       "234005"
      ]
     },
     "execution_count": 37,
     "metadata": {},
     "output_type": "execute_result"
    }
   ],
   "source": [
    "all_values = len(target)\n",
    "all_values"
   ]
  },
  {
   "cell_type": "markdown",
   "metadata": {},
   "source": [
    "## 2-1 Dividindo a Base em 70 - 30"
   ]
  },
  {
   "cell_type": "code",
   "execution_count": 38,
   "metadata": {},
   "outputs": [
    {
     "data": {
      "text/plain": [
       "163804"
      ]
     },
     "execution_count": 38,
     "metadata": {},
     "output_type": "execute_result"
    }
   ],
   "source": [
    "num_train = int(\n",
    "    round(\n",
    "        0.7 * all_values,\n",
    "        0\n",
    "       )\n",
    ")\n",
    "num_train"
   ]
  },
  {
   "cell_type": "code",
   "execution_count": 39,
   "metadata": {},
   "outputs": [],
   "source": [
    "x_data = np.array(character)\n",
    "y_data = np.array(target)"
   ]
  },
  {
   "cell_type": "code",
   "execution_count": 40,
   "metadata": {},
   "outputs": [],
   "source": [
    "x_train = x_data[:num_train]\n",
    "x_test = x_data[num_train:]\n",
    "\n",
    "y_train = y_data[:num_train]\n",
    "y_test = y_data[num_train:]"
   ]
  },
  {
   "cell_type": "markdown",
   "metadata": {},
   "source": [
    "## Etapa 3-1 - Fazer o treino com 70%"
   ]
  },
  {
   "cell_type": "code",
   "execution_count": 43,
   "metadata": {},
   "outputs": [
    {
     "data": {
      "text/plain": [
       "np.float64(1.0511214344805064)"
      ]
     },
     "execution_count": 43,
     "metadata": {},
     "output_type": "execute_result"
    }
   ],
   "source": [
    "beta_one_train = calc_beta_one(x_train, y_train)\n",
    "beta_one_train"
   ]
  },
  {
   "cell_type": "code",
   "execution_count": 45,
   "metadata": {},
   "outputs": [
    {
     "data": {
      "text/plain": [
       "np.float64(0.6108120058729305)"
      ]
     },
     "execution_count": 45,
     "metadata": {},
     "output_type": "execute_result"
    }
   ],
   "source": [
    "beta_zero_train = calc_beta_zero(\n",
    "    mean_y=my_mean(y_train),\n",
    "    beta_one=beta_one_train,\n",
    "    mean_x=my_mean(x_train)\n",
    ")\n",
    "beta_zero_train"
   ]
  },
  {
   "cell_type": "code",
   "execution_count": 52,
   "metadata": {},
   "outputs": [
    {
     "data": {
      "text/plain": [
       "array([1.5568213 , 1.87215773, 1.87215773, ..., 4.28973703, 1.97726987,\n",
       "       1.9247138 ])"
      ]
     },
     "execution_count": 52,
     "metadata": {},
     "output_type": "execute_result"
    }
   ],
   "source": [
    "result_train = beta_zero_train + beta_one_train * x_train\n",
    "result_train"
   ]
  },
  {
   "cell_type": "markdown",
   "metadata": {},
   "source": [
    "## 3-2 - Fase de teste com os 30%"
   ]
  },
  {
   "cell_type": "code",
   "execution_count": 48,
   "metadata": {},
   "outputs": [
    {
     "data": {
      "text/plain": [
       "np.float64(1.06496062047965)"
      ]
     },
     "execution_count": 48,
     "metadata": {},
     "output_type": "execute_result"
    }
   ],
   "source": [
    "beta_one_test = calc_beta_one(x_test, y_test)\n",
    "beta_one_test"
   ]
  },
  {
   "cell_type": "code",
   "execution_count": 49,
   "metadata": {},
   "outputs": [
    {
     "data": {
      "text/plain": [
       "np.float64(0.6846797943316196)"
      ]
     },
     "execution_count": 49,
     "metadata": {},
     "output_type": "execute_result"
    }
   ],
   "source": [
    "beta_zero_test = calc_beta_zero(\n",
    "    mean_y=my_mean(y_test),\n",
    "    beta_one=beta_one_test,\n",
    "    mean_x=my_mean(x_test)\n",
    ")\n",
    "beta_zero_test"
   ]
  },
  {
   "cell_type": "code",
   "execution_count": 53,
   "metadata": {},
   "outputs": [
    {
     "data": {
      "text/plain": [
       "array([1.69639238, 2.9210971 , 3.02759316, ..., 0.84442389, 2.0691286 ,\n",
       "       2.0691286 ])"
      ]
     },
     "execution_count": 53,
     "metadata": {},
     "output_type": "execute_result"
    }
   ],
   "source": [
    "result_test = beta_zero_test + beta_one_test * x_test\n",
    "result_test"
   ]
  },
  {
   "cell_type": "markdown",
   "metadata": {},
   "source": [
    "## Etapa 4 - Avaliação"
   ]
  },
  {
   "cell_type": "code",
   "execution_count": 54,
   "metadata": {},
   "outputs": [],
   "source": [
    "def my_sqrt(value: float):\n",
    "\n",
    "    return value ** (1/2)"
   ]
  },
  {
   "cell_type": "code",
   "execution_count": 55,
   "metadata": {},
   "outputs": [],
   "source": [
    "def rmse(y_test: np.ndarray, y_pred: np.ndarray, y_num_values: int):\n",
    "    \"\"\"\n",
    "    calculo dos resultados pela raiz media quadrada do erro\n",
    "    \"\"\"\n",
    "\n",
    "    soma = 0\n",
    "\n",
    "    for idx in range(len(y_test)):\n",
    "\n",
    "        soma += ((y_test[idx] - y_pred[idx]) ** 2)\n",
    "\n",
    "\n",
    "\n",
    "    return my_sqrt(soma * (1 / y_num_values))\n"
   ]
  },
  {
   "cell_type": "code",
   "execution_count": 56,
   "metadata": {},
   "outputs": [
    {
     "data": {
      "text/plain": [
       "np.float64(1.9609075788870962)"
      ]
     },
     "execution_count": 56,
     "metadata": {},
     "output_type": "execute_result"
    }
   ],
   "source": [
    "result = rmse(y_test, result_test, len(y_test))\n",
    "result"
   ]
  }
 ],
 "metadata": {
  "kernelspec": {
   "display_name": ".venv",
   "language": "python",
   "name": "python3"
  },
  "language_info": {
   "codemirror_mode": {
    "name": "ipython",
    "version": 3
   },
   "file_extension": ".py",
   "mimetype": "text/x-python",
   "name": "python",
   "nbconvert_exporter": "python",
   "pygments_lexer": "ipython3",
   "version": "3.12.3"
  }
 },
 "nbformat": 4,
 "nbformat_minor": 2
}
